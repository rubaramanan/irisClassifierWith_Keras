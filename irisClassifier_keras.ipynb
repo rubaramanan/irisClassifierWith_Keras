{
 "cells": [
  {
   "cell_type": "markdown",
   "metadata": {},
   "source": [
    "# iris Classifier"
   ]
  },
  {
   "cell_type": "code",
   "execution_count": null,
   "metadata": {},
   "outputs": [],
   "source": [
    "import numpy as np \n",
    "import pandas as pd\n",
    "from tensorflow import keras"
   ]
  },
  {
   "cell_type": "markdown",
   "metadata": {},
   "source": []
  },
  {
   "cell_type": "code",
   "execution_count": null,
   "metadata": {},
   "outputs": [],
   "source": [
    "iris = pd.read_csv('IrisData.csv')\n",
    "iris.head()"
   ]
  },
  {
   "cell_type": "code",
   "execution_count": null,
   "metadata": {},
   "outputs": [],
   "source": [
    "iris1 = iris.values"
   ]
  },
  {
   "cell_type": "code",
   "execution_count": null,
   "metadata": {},
   "outputs": [],
   "source": [
    "iris_features = iris1[:150,1:5].astype('f')   # create features for train the mode"
   ]
  },
  {
   "cell_type": "code",
   "execution_count": null,
   "metadata": {},
   "outputs": [],
   "source": [
    "iris_label = iris1[:150,5]          # create labels for train the model\n"
   ]
  },
  {
   "cell_type": "code",
   "execution_count": null,
   "metadata": {},
   "outputs": [],
   "source": [
    "for i in range(iris_label.size):\n",
    "    if iris_label[i]=='Iris-setosa':\n",
    "        iris_label[i]=0\n",
    "    elif iris_label[i]=='Iris-versicolor':\n",
    "        iris_label[i]=1\n",
    "    else:\n",
    "        iris_label[i]=2\n",
    "        "
   ]
  },
  {
   "cell_type": "code",
   "execution_count": null,
   "metadata": {},
   "outputs": [],
   "source": [
    "iris_label\n",
    "# iris_label1 = np.expand_dims(np.expand_dims(np.expand_dims(iris_label,axis=0),axis=0),axis=0)\n",
    "# iris_features1 = np.expand_dims(np.expand_dims(iris_features,axis=0),axis=0)\n",
    "# iris_label1.shape\n",
    "# input_shape = iris_features1[0].shape\n",
    "# input_shape"
   ]
  },
  {
   "cell_type": "code",
   "execution_count": null,
   "metadata": {},
   "outputs": [],
   "source": [
    "# iris_labels=np.expand_dims(iris_label, axis=0)\n",
    "# iris_labels"
   ]
  },
  {
   "cell_type": "markdown",
   "metadata": {},
   "source": []
  },
  {
   "cell_type": "markdown",
   "metadata": {},
   "source": [
    "## Train the model with tensorFlow(Keras)"
   ]
  },
  {
   "cell_type": "markdown",
   "metadata": {},
   "source": [
    "#### craete model"
   ]
  },
  {
   "cell_type": "code",
   "execution_count": null,
   "metadata": {},
   "outputs": [],
   "source": [
    "# model = keras.models.Sequential([\n",
    "#     keras.layers.Dense(4, activation='relu', input_shape=(4,)),     # create input layer with relu 64 units\n",
    "#     keras.layers.Dense(64, activation='relu'),                       # create hidden layer with relu 64 units\n",
    "#     keras.layers.Dense(10, activation='softmax')                    # create output layer with softmax 10 units\n",
    "# ])\n",
    "\n",
    "# model = keras.Sequential([\n",
    "# # Adds a densely-connected layer with 64 units to the model:\n",
    "# keras.layers.Dense(64, activation='tanh', input_shape=(4,)),\n",
    "# # Add another:\n",
    "# keras.layers.Dense(64, activation='tanh'),\n",
    "# # Add a softmax layer with 10 output units:\n",
    "# keras.layers.Dense(10, activation='sigmoid')])\n",
    "\n",
    "\n",
    "# model = keras.Sequential()\n",
    "# model.add(keras.layers.Dense(512, input_shape=input_shape))\n",
    "# model.add(keras.layers.Activation('relu'))\n",
    "# model.add(keras.layers.Dense(5))\n",
    "# model.add(keras.layers.Activation('softmax'))\n",
    "\n",
    "\n",
    "model = keras.models.Sequential()\n",
    "\n",
    "model.add(keras.layers.Dense(32, activation='tanh', input_shape=(4,)))\n",
    "model.add(keras.layers.Dropout(0.5))\n",
    "model.add(keras.layers.Dense(32, activation='tanh'))\n",
    "model.add(keras.layers.Dropout(0.5))\n",
    "model.add(keras.layers.Dense(3, activation='softmax'))"
   ]
  },
  {
   "cell_type": "markdown",
   "metadata": {},
   "source": [
    "#### setup training method for model"
   ]
  },
  {
   "cell_type": "code",
   "execution_count": null,
   "metadata": {},
   "outputs": [],
   "source": [
    "model.compile(optimizer='adam',\n",
    "              loss='categorical_crossentropy',  # loss is the function to minimize the during optimization\n",
    "              metrics=['accuracy']\n",
    ")                  # metrics is used to measuring training "
   ]
  },
  {
   "cell_type": "markdown",
   "metadata": {},
   "source": [
    "#### train from numpy data models"
   ]
  },
  {
   "cell_type": "code",
   "execution_count": null,
   "metadata": {},
   "outputs": [],
   "source": [
    "x = keras.utils.to_categorical(iris_label)\n",
    "x.ndim\n",
    "x.shape\n",
    "# #iris_features[0].shape\n",
    "x"
   ]
  },
  {
   "cell_type": "code",
   "execution_count": null,
   "metadata": {},
   "outputs": [],
   "source": []
  },
  {
   "cell_type": "code",
   "execution_count": null,
   "metadata": {},
   "outputs": [],
   "source": [
    "model.fit(iris_features,x,epochs=2000)"
   ]
  },
  {
   "cell_type": "code",
   "execution_count": null,
   "metadata": {},
   "outputs": [],
   "source": [
    "model.save('model.h5')"
   ]
  },
  {
   "cell_type": "code",
   "execution_count": null,
   "metadata": {},
   "outputs": [],
   "source": [
    "result = model.predict([[5.1,3.5,1.4,0.2]])\n",
    "result"
   ]
  },
  {
   "cell_type": "code",
   "execution_count": null,
   "metadata": {},
   "outputs": [],
   "source": [
    "l=np.argmax(result)\n",
    "l"
   ]
  },
  {
   "cell_type": "code",
   "execution_count": null,
   "metadata": {},
   "outputs": [],
   "source": [
    "class_iris=['Iris-setosa','Iris-versicolor','Iris-virginica']\n",
    "\n",
    "class_iris[l]"
   ]
  }
 ],
 "metadata": {
  "kernelspec": {
   "display_name": "Python 3",
   "language": "python",
   "name": "python3"
  },
  "language_info": {
   "codemirror_mode": {
    "name": "ipython",
    "version": 3
   },
   "file_extension": ".py",
   "mimetype": "text/x-python",
   "name": "python",
   "nbconvert_exporter": "python",
   "pygments_lexer": "ipython3",
   "version": "3.7.3"
  }
 },
 "nbformat": 4,
 "nbformat_minor": 2
}
